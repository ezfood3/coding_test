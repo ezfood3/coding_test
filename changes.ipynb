{
 "cells": [
  {
   "attachments": {},
   "cell_type": "markdown",
   "metadata": {},
   "source": [
    "## Greedy 알고리즘\n",
    "- 대표적인 예가 거스름돈 예제\n",
    "  - 주어진 거스름돈을 내어주기 위한 최소한의 동전수를 구하는 문제\n",
    "  - 전제가 큰 단위의 동전은 작은 단위 동전의 배수이다.\n",
    "  - 큰 단위에서 작은 단위의 동전 순서로 각각 그 동전으로 내어줄 수 있는 최대값을 찾아 나가면 된다.\n",
    "    - 동전의 종류가 주어지면 이들을 내림차순으로 정렬을 하던가, 또는 내림차순으로 정렬된 순서로 리스트에 저장해 놓던지.\n",
    "  - 그 다음 아래를 반복한다.\n",
    "    - 리스트에서 순서대로 현재 동전을 꺼내고\n",
    "    - 그 동전으로 지불할 수 있는 최대의 거스름돈을 구하고 (동전개수)\n",
    "    - 그 만큼을 거스름돈에서 뺀다.\n",
    "    - 남은 거스름돈이 0이되면 반복 종료."
   ]
  },
  {
   "cell_type": "code",
   "execution_count": 4,
   "metadata": {},
   "outputs": [
    {
     "name": "stdout",
     "output_type": "stream",
     "text": [
      "6\n"
     ]
    }
   ],
   "source": [
    "# 거스름돈\n",
    "n = 1260\n",
    "\n",
    "# 거스름돈을 걸려주기 위해 사용된 동전의 수를 변수 count에 저장\n",
    "count = 0\n",
    "\n",
    "# 물건의 종류를 큰 것부터 작은 것 순으로 리스트에 저장\n",
    "coin_types = [500, 100, 50, 10]\n",
    "\n",
    "# 리스트 con_types에 저장된 동전에 더해서 다음은 반복\n",
    "\n",
    "for coin in coin_types:\n",
    "  count += n // coin # 나눈 몫이 현재 coin으로 거슬러 줄 수 있는 최대 수\n",
    "  n %= coin # coin 동저으로 최대한 거슬러 주고 남은 거스름돈을 n에 덮어쓴다.\n",
    "  if n == 0:\n",
    "    break\n",
    "\n",
    "print(count)\n"
   ]
  },
  {
   "attachments": {},
   "cell_type": "markdown",
   "metadata": {},
   "source": [
    "# 큰 수의 법칙\n",
    "- 입력 조건\n",
    "  - 첫째 줄에 N(2 <= N <= 1,000), M(1 <= M <= 1,000), K(1 <= K <= 1,000)의 자연수가 주어지며, 각 자연수는 공백으로 구분된다.\n",
    "  - 둘째 주에 N개의 자연수가 주어진다. 각 자연수는 공백으로 구분한다. 단, 각각의 자연수는 1이상 10,000이하의 수로 주어진다.\n",
    "  - 입력으로 주어지는 K는 항상 M보다 작거나 같다.\n",
    "\n",
    "- 출력조건\n",
    "  - 첫째 큰 수의 법칙에 따라 더해진 값을 출력한다.\n",
    "\n",
    "- 입력예시: \n",
    "  - 5 8 3\n",
    "  - 2 4 5 4 6\n",
    "\n",
    "- 출력예시:\n",
    "  - 46\n",
    "\n",
    "\n",
    "1. n, m, k 입력받아 저장\n",
    "2. n개의 수를 입력받아 리스트에 저장\n",
    "3. 리스트를 정렬해서 가장 큰 수와 두 번째 큰 수를 각각 first, second에 저장\n",
    "4. m번 더하기 위해 아래를 반복\n",
    "  1. m이 0이면 반복 종료\n",
    "  2. 가장 큰 수를 k번 더한다. -> 더할 때 m을 1식 감소, m이 0이면 반복 종료\n",
    "  3. m이 0이면 반복 종료\n",
    "  4. 두 번째 큰 수를 1번 더한다. -> m을 1 감소"
   ]
  },
  {
   "cell_type": "code",
   "execution_count": 2,
   "metadata": {},
   "outputs": [
    {
     "name": "stdout",
     "output_type": "stream",
     "text": [
      "[2, 3, 4, 5, 6]\n",
      "46\n"
     ]
    }
   ],
   "source": [
    "# n, m, k를 공백으로 구분하여 입력받기\n",
    "n, m, k = map(int, input().split()) # 1 2 3\n",
    "# n개의 수를 공백으로 구분하여 입력받고, 그놈을 int로 변환해서 리스트로 생성\n",
    "data = list(map(int, input().split()))\n",
    "data.sort()\n",
    "\n",
    "print(data)\n",
    "first = data[n-1] # 가장 큰 수\n",
    "second = data[n-2] # 두번째 큰 수\n",
    "\n",
    "result = 0\n",
    "\n",
    "while True:\n",
    "  # 가장 큰 수 k번 더하자.\n",
    "  for i in range(k):\n",
    "    if m == 0:\n",
    "      break\n",
    "    result += first\n",
    "    m -= 1\n",
    "    \n",
    "  if m == 0:\n",
    "    break\n",
    "  \n",
    "  result += second\n",
    "  m -= 1\n",
    "\n",
    "print(result)\n"
   ]
  },
  {
   "cell_type": "code",
   "execution_count": 3,
   "metadata": {},
   "outputs": [
    {
     "name": "stdout",
     "output_type": "stream",
     "text": [
      "46\n"
     ]
    }
   ],
   "source": [
    "# N, M, K를 공백으로 구분하여 입력받기\n",
    "n, m, k = map(int, input().split())\n",
    "\n",
    "# N개의 수를 공백으로 구분하여 입력받기\n",
    "data = list(map(int, input().split()))\n",
    "\n",
    "data.sort() # 입력받은 수 정렬\n",
    "\n",
    "first = data[n-1] # 가장 큰 수\n",
    "second = data[n-2] # 두 번째로 큰 수\n",
    "\n",
    "# 가장 큰 수가 더해지는 횟수 계산\n",
    "count = int(m / (k+1)) * k\n",
    "count += m % (k+1)\n",
    "\n",
    "result = 0\n",
    "result += (count) * first # 가장 큰 수 더하기\n",
    "result += (m - count) * second # 두 번째로 큰 수 더하기\n",
    "\n",
    "print(result)"
   ]
  }
 ],
 "metadata": {
  "kernelspec": {
   "display_name": "base",
   "language": "python",
   "name": "python3"
  },
  "language_info": {
   "codemirror_mode": {
    "name": "ipython",
    "version": 3
   },
   "file_extension": ".py",
   "mimetype": "text/x-python",
   "name": "python",
   "nbconvert_exporter": "python",
   "pygments_lexer": "ipython3",
   "version": "3.10.9"
  },
  "orig_nbformat": 4,
  "vscode": {
   "interpreter": {
    "hash": "50e527a8411d1edfd6b3a70fa6a7bf616ff5b3fefbeee627c858b56746814b10"
   }
  }
 },
 "nbformat": 4,
 "nbformat_minor": 2
}
