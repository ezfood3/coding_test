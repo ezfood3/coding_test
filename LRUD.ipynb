{
 "cells": [
  {
   "attachments": {},
   "cell_type": "markdown",
   "metadata": {},
   "source": [
    "## 상하좌우\n",
    "\n",
    "* N x N 크기의 정사각형 위에 여행가 A가 서있다.\n",
    "* 가장 왼쪽 위 좌표는 (1, 1)\n",
    "* 가장 오른쪽 아래 좌표는 (N, N)\n",
    "* A는 상, 하, 좌, 우 방향으로 이동할 수 있다.\n",
    "* 시작 좌표는 항상 (1, 1)\n",
    "* 여행 계획서가 주어졌을 때 그에 따라 이동한 경우 A가 최종적으로 위치하는 좌표를 출력\n",
    "  * N x N 크기의 정사각형 공간을 벗어나는 움직임은 무시한다.\n",
    "\n",
    "* 입력예시\n",
    "  * 5\n",
    "  * R R R U D D\n",
    "* 출력예시\n",
    "  * 3 4"
   ]
  },
  {
   "cell_type": "code",
   "execution_count": 1,
   "metadata": {},
   "outputs": [
    {
     "name": "stdout",
     "output_type": "stream",
     "text": [
      "5\n"
     ]
    }
   ],
   "source": [
    "# 정사각형 크기 n 입력받기\n",
    "n = int(input())\n",
    "# 여행 계획서 입력받기\n"
   ]
  },
  {
   "cell_type": "code",
   "execution_count": 2,
   "metadata": {},
   "outputs": [
    {
     "name": "stdout",
     "output_type": "stream",
     "text": [
      "1 1\n",
      "2\n"
     ]
    }
   ],
   "source": [
    "# 현재 나이트의 위치를 입력받는다.\n",
    "input_data = input() # 1열 1행 => a1, 2열 3행 => b3\n",
    "row = int(input_data[1])\n",
    "col = (ord(input_data[0]) - ord('a')) + 1\n",
    "\n",
    "print(row, col)\n",
    "\n",
    "# 나이트가 이동할 수 있는 L자형 8가지 방향 정의\n",
    "steps = [(-2, -1),(-1, -2), (1,-2), (2, -1), (2, 1), (1, 2), (-1, 2), (-2, 1)]\n",
    "\n",
    "# 8가지 방향에 대해 각각 그 위치로 이동이 가능한지를 체크하자.\n",
    "count = 0\n",
    "for step in steps:\n",
    "    # 첫 번째 루프 : step = (-2, -1)\n",
    "    # 두 번째 루프 : step = (-1, 2)\n",
    "    # ...\n",
    "    # 어덟 번째 루프 : step = (-2, 1)\n",
    "    \n",
    "    next_row = row + step[0]\n",
    "    next_col = col + step[1]\n",
    "    # 이 next_row가 1~8 사이이고 next_col이 1에서 8사이이면 count를 1 증가 시키면 된다,\n",
    "    if 1 <= next_row <= 8 and 1 <= next_col <= 8 :\n",
    "    # if next_row >= 1 and next_row <=8 and next_col >= 1 and next_col <=8 :\n",
    "        count += 1\n",
    "\n",
    "print(count)"
   ]
  }
 ],
 "metadata": {
  "kernelspec": {
   "display_name": "base",
   "language": "python",
   "name": "python3"
  },
  "language_info": {
   "codemirror_mode": {
    "name": "ipython",
    "version": 3
   },
   "file_extension": ".py",
   "mimetype": "text/x-python",
   "name": "python",
   "nbconvert_exporter": "python",
   "pygments_lexer": "ipython3",
   "version": "3.10.9"
  },
  "orig_nbformat": 4
 },
 "nbformat": 4,
 "nbformat_minor": 2
}
